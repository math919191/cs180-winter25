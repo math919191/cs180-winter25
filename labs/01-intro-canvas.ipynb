{
  "cells": [
    {
      "cell_type": "markdown",
      "metadata": {
        "id": "IPir_6bCCFnZ"
      },
      "source": [
        "<a href=\"https://colab.research.google.com/github/rhodes-byu/cs180-winter25/blob/main/labs/01-intro-canvas.ipynb\" target=\"_parent\"><img src=\"https://colab.research.google.com/assets/colab-badge.svg\" alt=\"Open In Colab\"/></a><p><b>After clicking the \"Open in Colab\" link, copy the notebook to your own Google Drive before getting started, or it will not save your work</b></p>"
      ]
    },
    {
      "cell_type": "code",
      "source": [
        "print(\"Does my experiment with Github work in colab? \")"
      ],
      "metadata": {
        "colab": {
          "base_uri": "https://localhost:8080/"
        },
        "id": "i4TJqbSvkXMe",
        "outputId": "6907d3d4-22b8-43dc-d0fb-6955ff2d7268"
      },
      "execution_count": 1,
      "outputs": [
        {
          "output_type": "stream",
          "name": "stdout",
          "text": [
            "Does my experiment with Github work in colab? \n"
          ]
        }
      ]
    },
    {
      "cell_type": "markdown",
      "source": [
        "**Connecting Collab to Github**\n",
        "\n",
        "This was a fun assignment. I figured out how to fork the given repo for the class. I now have my own version of the repo under my private name, so I can commit/push/pull all I want without affecting the professor's.\n",
        "\n",
        "I also learned that collab integrates with my personal github account. So, I can push and pull without actually using my personal computer/the command line, and do it purely through collab. I thought that was pretty cool.\n",
        "\n",
        "I also have my own repo set up on my computer so if I want to I can use Visual Studio Code instead, but still have the source control I want.\n",
        "\n",
        "My takeaway from this is that Collab is much, much more powerful than I originally realized."
      ],
      "metadata": {
        "id": "Www2sT1hlFO0"
      }
    },
    {
      "cell_type": "markdown",
      "source": [
        "**Lessons/Thoughts from the assignment**\n",
        "\n",
        "Here are my notes from going through the different\n",
        "\n",
        "\n",
        "\n",
        "I went to the wrong link first.\n",
        "I went through the following tutorial:\n",
        "https://colab.research.google.com/notebooks/basic_features_overview.ipynb#scrollTo=qM4myQGfQboQ\n",
        "\n",
        "There are quick keys in collab that could be useful to learn.\n",
        "\n",
        "Collab uses markdown Syntax, and LaTex and MathJax Syntax.\n",
        "\n",
        "Control M / I kills a running process\n",
        "\n",
        "Useful quick keys for clearing output\n",
        "\n",
        "Jupyter has MAGIC stuff\n",
        "\n",
        "https://nbviewer.org/github/ipython/ipython/blob/1.x/examples/notebooks/Cell%20Magics.ipynb\n",
        "\n",
        "This makes Jupyter a lot more powerful. I didn't realize that.\n",
        "\n",
        "One cell, one language\n",
        " - can use html and svg\n",
        "\n",
        "- has auto completion\n",
        "- has description/documentation for items (ctrl + shift + space) or hovering\n",
        "\n",
        "\n",
        "\n",
        "Colab allows people to add comments, like a google drive document. Kinda like a giant GitHub project on a very contained scale.\n",
        "\n",
        "\n",
        "\n",
        "Provides Gemini chat -- kinda interesting\n",
        "Can pay for more power. Runs on Google servers -- would be very useful if your computer isn't great.\n",
        "\n",
        "\n",
        "MD Things I Learned:\n",
        "\n",
        "Strikethrough is helpful ~~stuck through text~~\n",
        "So is monospace `Monospace`\n",
        "\n",
        ">one level of indentation\n",
        ">>two levels of indentation\n",
        "\n",
        "$ fancy^equation with^{i\\pi} fancy {n \\choose k} syntax\n",
        "\n",
        "Can use columns\n",
        "\n",
        "----------|-------\n",
        "    hi    | hi  \n",
        "    hi    | hi  \n",
        "\n",
        "Some differences with Github's and Jupyter's md. Slightly annoying, but nothing ever is fully consistent.\n"
      ],
      "metadata": {
        "id": "aKo2Cq7clhpn"
      }
    },
    {
      "cell_type": "markdown",
      "metadata": {
        "id": "_slaQdUGCB0t"
      },
      "source": [
        "# BYU CS 180 Lab 1"
      ]
    },
    {
      "cell_type": "markdown",
      "metadata": {
        "id": "ct7fnkcnCL8O"
      },
      "source": [
        "## Introduction:\n",
        "\n",
        "This lab is hosted on Canvas. Please see instructions there."
      ]
    }
  ],
  "metadata": {
    "colab": {
      "provenance": []
    },
    "kernelspec": {
      "display_name": "Python 3 (ipykernel)",
      "language": "python",
      "name": "python3"
    },
    "language_info": {
      "codemirror_mode": {
        "name": "ipython",
        "version": 3
      },
      "file_extension": ".py",
      "mimetype": "text/x-python",
      "name": "python",
      "nbconvert_exporter": "python",
      "pygments_lexer": "ipython3",
      "version": "3.9.13"
    }
  },
  "nbformat": 4,
  "nbformat_minor": 0
}